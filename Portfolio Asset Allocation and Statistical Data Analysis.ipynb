{
 "cells": [
  {
   "cell_type": "markdown",
   "metadata": {
    "id": "ltpfSDVCRbRX"
   },
   "source": [
    "# TASK #1: UNDERSTAND THE PROBLEM STATEMENT AND BUSINESS CASE"
   ]
  },
  {
   "cell_type": "markdown",
   "metadata": {},
   "source": [
    "ASSET ALLOCATION AND PORTFOLIO ANALYSIS:\n",
    "\n",
    "•\tIn this project, instead of analyzing individual stocks, I will use python to perform portfolio analysis such as calculating portfolio returns, risk and Sharpe ratio.\n",
    "•\tA portfolio is a collection of financial investments such as stocks, fixed income securities (bonds), cash, mutual funds and Exchange Traded Funds (ETFs).\n",
    "\n"
   ]
  },
  {
   "cell_type": "markdown",
   "metadata": {
    "id": "_OtNKjlXS5YR"
   },
   "source": [
    "# TASK #2: IMPORT LIBRARIES & DATASETS AND PERFORM DATA VISUALIZATION"
   ]
  },
  {
   "cell_type": "code",
   "execution_count": 18,
   "metadata": {
    "executionInfo": {
     "elapsed": 388,
     "status": "ok",
     "timestamp": 1606704608005,
     "user": {
      "displayName": "Stemplicity",
      "photoUrl": "https://lh3.googleusercontent.com/a-/AOh14Gj2vCFt-bD5mPBhUWX0QA6xiBgoXQXtwUm2jgjaCg=s64",
      "userId": "10668071569687886186"
     },
     "user_tz": 300
    },
    "id": "TMxtZdEjRjoc"
   },
   "outputs": [],
   "source": [
    "import csv\n",
    "import pandas as pd\n",
    "import numpy as np\n",
    "import plotly.express as px\n",
    "from copy import copy\n",
    "from scipy import stats\n",
    "import matplotlib.pyplot as plt\n",
    "import numpy as np\n",
    "import plotly.figure_factory as ff\n",
    "import plotly.graph_objects as go"
   ]
  },
  {
   "cell_type": "code",
   "execution_count": 19,
   "metadata": {
    "colab": {
     "base_uri": "https://localhost:8080/",
     "height": 402
    },
    "executionInfo": {
     "elapsed": 564,
     "status": "ok",
     "timestamp": 1606704608199,
     "user": {
      "displayName": "Stemplicity",
      "photoUrl": "https://lh3.googleusercontent.com/a-/AOh14Gj2vCFt-bD5mPBhUWX0QA6xiBgoXQXtwUm2jgjaCg=s64",
      "userId": "10668071569687886186"
     },
     "user_tz": 300
    },
    "id": "rjnkqEJzRjtC",
    "outputId": "14c83bc3-fc81-4762-c2bd-d07b92e409e8"
   },
   "outputs": [
    {
     "data": {
      "text/html": [
       "<div>\n",
       "<style scoped>\n",
       "    .dataframe tbody tr th:only-of-type {\n",
       "        vertical-align: middle;\n",
       "    }\n",
       "\n",
       "    .dataframe tbody tr th {\n",
       "        vertical-align: top;\n",
       "    }\n",
       "\n",
       "    .dataframe thead th {\n",
       "        text-align: right;\n",
       "    }\n",
       "</style>\n",
       "<table border=\"1\" class=\"dataframe\">\n",
       "  <thead>\n",
       "    <tr style=\"text-align: right;\">\n",
       "      <th></th>\n",
       "      <th>Date</th>\n",
       "      <th>FB</th>\n",
       "      <th>TWTR</th>\n",
       "      <th>NFLX</th>\n",
       "    </tr>\n",
       "  </thead>\n",
       "  <tbody>\n",
       "    <tr>\n",
       "      <th>0</th>\n",
       "      <td>2013-11-07</td>\n",
       "      <td>47.560001</td>\n",
       "      <td>44.900002</td>\n",
       "      <td>46.694286</td>\n",
       "    </tr>\n",
       "    <tr>\n",
       "      <th>1</th>\n",
       "      <td>2013-11-08</td>\n",
       "      <td>47.529999</td>\n",
       "      <td>41.650002</td>\n",
       "      <td>47.842857</td>\n",
       "    </tr>\n",
       "    <tr>\n",
       "      <th>2</th>\n",
       "      <td>2013-11-11</td>\n",
       "      <td>46.200001</td>\n",
       "      <td>42.900002</td>\n",
       "      <td>48.272858</td>\n",
       "    </tr>\n",
       "    <tr>\n",
       "      <th>3</th>\n",
       "      <td>2013-11-12</td>\n",
       "      <td>46.610001</td>\n",
       "      <td>41.900002</td>\n",
       "      <td>47.675713</td>\n",
       "    </tr>\n",
       "    <tr>\n",
       "      <th>4</th>\n",
       "      <td>2013-11-13</td>\n",
       "      <td>48.709999</td>\n",
       "      <td>42.599998</td>\n",
       "      <td>47.897144</td>\n",
       "    </tr>\n",
       "    <tr>\n",
       "      <th>...</th>\n",
       "      <td>...</td>\n",
       "      <td>...</td>\n",
       "      <td>...</td>\n",
       "      <td>...</td>\n",
       "    </tr>\n",
       "    <tr>\n",
       "      <th>1707</th>\n",
       "      <td>2020-08-20</td>\n",
       "      <td>269.010010</td>\n",
       "      <td>38.959999</td>\n",
       "      <td>497.899994</td>\n",
       "    </tr>\n",
       "    <tr>\n",
       "      <th>1708</th>\n",
       "      <td>2020-08-21</td>\n",
       "      <td>267.010010</td>\n",
       "      <td>39.259998</td>\n",
       "      <td>492.309998</td>\n",
       "    </tr>\n",
       "    <tr>\n",
       "      <th>1709</th>\n",
       "      <td>2020-08-24</td>\n",
       "      <td>271.390015</td>\n",
       "      <td>40.490002</td>\n",
       "      <td>488.809998</td>\n",
       "    </tr>\n",
       "    <tr>\n",
       "      <th>1710</th>\n",
       "      <td>2020-08-25</td>\n",
       "      <td>280.820007</td>\n",
       "      <td>40.549999</td>\n",
       "      <td>490.579987</td>\n",
       "    </tr>\n",
       "    <tr>\n",
       "      <th>1711</th>\n",
       "      <td>2020-08-26</td>\n",
       "      <td>303.910004</td>\n",
       "      <td>41.080002</td>\n",
       "      <td>547.530029</td>\n",
       "    </tr>\n",
       "  </tbody>\n",
       "</table>\n",
       "<p>1712 rows × 4 columns</p>\n",
       "</div>"
      ],
      "text/plain": [
       "            Date          FB       TWTR        NFLX\n",
       "0     2013-11-07   47.560001  44.900002   46.694286\n",
       "1     2013-11-08   47.529999  41.650002   47.842857\n",
       "2     2013-11-11   46.200001  42.900002   48.272858\n",
       "3     2013-11-12   46.610001  41.900002   47.675713\n",
       "4     2013-11-13   48.709999  42.599998   47.897144\n",
       "...          ...         ...        ...         ...\n",
       "1707  2020-08-20  269.010010  38.959999  497.899994\n",
       "1708  2020-08-21  267.010010  39.259998  492.309998\n",
       "1709  2020-08-24  271.390015  40.490002  488.809998\n",
       "1710  2020-08-25  280.820007  40.549999  490.579987\n",
       "1711  2020-08-26  303.910004  41.080002  547.530029\n",
       "\n",
       "[1712 rows x 4 columns]"
      ]
     },
     "execution_count": 19,
     "metadata": {},
     "output_type": "execute_result"
    }
   ],
   "source": [
    "# Read the stock data file\n",
    "stocks_df = pd.read_csv(r'C:\\Users\\iraku\\OneDrive\\Desktop\\Data Analysis Project\\stock_data.csv')\n",
    "stocks_df"
   ]
  },
  {
   "cell_type": "code",
   "execution_count": 22,
   "metadata": {
    "executionInfo": {
     "elapsed": 717,
     "status": "ok",
     "timestamp": 1606704608374,
     "user": {
      "displayName": "Stemplicity",
      "photoUrl": "https://lh3.googleusercontent.com/a-/AOh14Gj2vCFt-bD5mPBhUWX0QA6xiBgoXQXtwUm2jgjaCg=s64",
      "userId": "10668071569687886186"
     },
     "user_tz": 300
    },
    "id": "0GDAgQaySUQb"
   },
   "outputs": [],
   "source": [
    "# Function to plot interactive plot\n",
    "def interactive_plot(df, title):\n",
    "    fig = px.line(title = title)\n",
    "    for i in df.columns[1:]:\n",
    "        fig.add_scatter(x = df[\"Date\"], y = df[i], name = i)\n",
    "    fig.show(renderer=\"png\")"
   ]
  },
  {
   "cell_type": "code",
   "execution_count": 23,
   "metadata": {
    "colab": {
     "base_uri": "https://localhost:8080/",
     "height": 542
    },
    "executionInfo": {
     "elapsed": 2256,
     "status": "ok",
     "timestamp": 1606704609920,
     "user": {
      "displayName": "Stemplicity",
      "photoUrl": "https://lh3.googleusercontent.com/a-/AOh14Gj2vCFt-bD5mPBhUWX0QA6xiBgoXQXtwUm2jgjaCg=s64",
      "userId": "10668071569687886186"
     },
     "user_tz": 300
    },
    "id": "6RxpH51ISUTS",
    "outputId": "6a3f1c38-2eeb-4aa5-a0bc-8bbc7dcdc3b9"
   },
   "outputs": [
    {
     "data": {
      "image/png": "[encoded data removed]"
     },
     "metadata": {},
     "output_type": "display_data"
    }
   ],
   "source": [
    "# Plot interactive chart\n",
    "interactive_plot(stocks_df, 'Stock Prices')\n"
   ]
  },
  {
   "cell_type": "code",
   "execution_count": 24,
   "metadata": {
    "colab": {
     "base_uri": "https://localhost:8080/",
     "height": 542
    },
    "executionInfo": {
     "elapsed": 3089,
     "status": "ok",
     "timestamp": 1606704610761,
     "user": {
      "displayName": "Stemplicity",
      "photoUrl": "https://lh3.googleusercontent.com/a-/AOh14Gj2vCFt-bD5mPBhUWX0QA6xiBgoXQXtwUm2jgjaCg=s64",
      "userId": "10668071569687886186"
     },
     "user_tz": 300
    },
    "id": "GRc-WGmyTX85",
    "outputId": "748a3099-4736-469e-c9bc-b924c2ca632c"
   },
   "outputs": [],
   "source": [
    "def normalize(df):\n",
    "    x  = df.copy()\n",
    "    for i in x.columns[1:]:\n",
    "        x[i] = x[i]/x[i][0]\n",
    "    return x"
   ]
  },
  {
   "cell_type": "code",
   "execution_count": 25,
   "metadata": {},
   "outputs": [
    {
     "data": {
      "image/png": "[encoded data removed]"
     },
     "metadata": {},
     "output_type": "display_data"
    }
   ],
   "source": [
    "interactive_plot(normalize(stocks_df),'Normalized Prices')"
   ]
  },
  {
   "cell_type": "markdown",
   "metadata": {
    "id": "i3iec4kDdqFh"
   },
   "source": [
    "# TASK #3: UNERSTAND THE CONCEPT OF ASSET ALLOCATION"
   ]
  },
  {
   "cell_type": "markdown",
   "metadata": {},
   "source": [
    "ASSET ALLOCATION:\n",
    "\n",
    "\n",
    "•\tAsset allocation is an investment strategy used to allocate client’s assets based on the risk tolerance, target returns and investments time span.\n",
    "\n",
    "•\tThe goal of portfolio manager is to maximize returns and reduce risks.\n",
    "\n",
    "•\tIn this project we will focus on portfolio analysis and we will not perform portfolio optimization.\n",
    "\n",
    "•\tLet’s assume we have $1M to invest, we will start with random weights for all the three securities in our data set.\n",
    "\n"
   ]
  },
  {
   "cell_type": "markdown",
   "metadata": {
    "id": "NYaUBZZTcnkP"
   },
   "source": [
    "# TASK #4: PERFORM RANDOM ASSET ALLOCATION AND CALCULATE PORTFOLIO DAILY RETURN"
   ]
  },
  {
   "cell_type": "code",
   "execution_count": 26,
   "metadata": {
    "colab": {
     "base_uri": "https://localhost:8080/"
    },
    "executionInfo": {
     "elapsed": 3080,
     "status": "ok",
     "timestamp": 1606704610763,
     "user": {
      "displayName": "Stemplicity",
      "photoUrl": "https://lh3.googleusercontent.com/a-/AOh14Gj2vCFt-bD5mPBhUWX0QA6xiBgoXQXtwUm2jgjaCg=s64",
      "userId": "10668071569687886186"
     },
     "user_tz": 300
    },
    "id": "YcAl_cZ8fTwG",
    "outputId": "2c798e8a-eb63-4d31-93c2-c8d3acca4639"
   },
   "outputs": [
    {
     "data": {
      "text/plain": [
       "array([0.46291341, 0.51156154, 0.02552505])"
      ]
     },
     "execution_count": 26,
     "metadata": {},
     "output_type": "execute_result"
    }
   ],
   "source": [
    "# Let's create random portfolio weights\n",
    "# Portfolio weights must sum to 1 \n",
    "\n",
    "# Set random seed\n",
    "np.random.seed(101)\n",
    "\n",
    "# Create random weights for the stocks and normalize them\n",
    "weights = np.array(np.random.random(3))\n",
    "weights\n",
    "# Ensure that the sum of all weights are = 1\n",
    "weights = weights/ np.sum(weights)\n",
    "weights\n",
    "\n"
   ]
  },
  {
   "cell_type": "code",
   "execution_count": 27,
   "metadata": {},
   "outputs": [
    {
     "data": {
      "text/html": [
       "<div>\n",
       "<style scoped>\n",
       "    .dataframe tbody tr th:only-of-type {\n",
       "        vertical-align: middle;\n",
       "    }\n",
       "\n",
       "    .dataframe tbody tr th {\n",
       "        vertical-align: top;\n",
       "    }\n",
       "\n",
       "    .dataframe thead th {\n",
       "        text-align: right;\n",
       "    }\n",
       "</style>\n",
       "<table border=\"1\" class=\"dataframe\">\n",
       "  <thead>\n",
       "    <tr style=\"text-align: right;\">\n",
       "      <th></th>\n",
       "      <th>Date</th>\n",
       "      <th>FB</th>\n",
       "      <th>TWTR</th>\n",
       "      <th>NFLX</th>\n",
       "    </tr>\n",
       "  </thead>\n",
       "  <tbody>\n",
       "    <tr>\n",
       "      <th>0</th>\n",
       "      <td>2013-11-07</td>\n",
       "      <td>47.560001</td>\n",
       "      <td>44.900002</td>\n",
       "      <td>46.694286</td>\n",
       "    </tr>\n",
       "    <tr>\n",
       "      <th>1</th>\n",
       "      <td>2013-11-08</td>\n",
       "      <td>47.529999</td>\n",
       "      <td>41.650002</td>\n",
       "      <td>47.842857</td>\n",
       "    </tr>\n",
       "    <tr>\n",
       "      <th>2</th>\n",
       "      <td>2013-11-11</td>\n",
       "      <td>46.200001</td>\n",
       "      <td>42.900002</td>\n",
       "      <td>48.272858</td>\n",
       "    </tr>\n",
       "    <tr>\n",
       "      <th>3</th>\n",
       "      <td>2013-11-12</td>\n",
       "      <td>46.610001</td>\n",
       "      <td>41.900002</td>\n",
       "      <td>47.675713</td>\n",
       "    </tr>\n",
       "    <tr>\n",
       "      <th>4</th>\n",
       "      <td>2013-11-13</td>\n",
       "      <td>48.709999</td>\n",
       "      <td>42.599998</td>\n",
       "      <td>47.897144</td>\n",
       "    </tr>\n",
       "    <tr>\n",
       "      <th>...</th>\n",
       "      <td>...</td>\n",
       "      <td>...</td>\n",
       "      <td>...</td>\n",
       "      <td>...</td>\n",
       "    </tr>\n",
       "    <tr>\n",
       "      <th>1707</th>\n",
       "      <td>2020-08-20</td>\n",
       "      <td>269.010010</td>\n",
       "      <td>38.959999</td>\n",
       "      <td>497.899994</td>\n",
       "    </tr>\n",
       "    <tr>\n",
       "      <th>1708</th>\n",
       "      <td>2020-08-21</td>\n",
       "      <td>267.010010</td>\n",
       "      <td>39.259998</td>\n",
       "      <td>492.309998</td>\n",
       "    </tr>\n",
       "    <tr>\n",
       "      <th>1709</th>\n",
       "      <td>2020-08-24</td>\n",
       "      <td>271.390015</td>\n",
       "      <td>40.490002</td>\n",
       "      <td>488.809998</td>\n",
       "    </tr>\n",
       "    <tr>\n",
       "      <th>1710</th>\n",
       "      <td>2020-08-25</td>\n",
       "      <td>280.820007</td>\n",
       "      <td>40.549999</td>\n",
       "      <td>490.579987</td>\n",
       "    </tr>\n",
       "    <tr>\n",
       "      <th>1711</th>\n",
       "      <td>2020-08-26</td>\n",
       "      <td>303.910004</td>\n",
       "      <td>41.080002</td>\n",
       "      <td>547.530029</td>\n",
       "    </tr>\n",
       "  </tbody>\n",
       "</table>\n",
       "<p>1712 rows × 4 columns</p>\n",
       "</div>"
      ],
      "text/plain": [
       "            Date          FB       TWTR        NFLX\n",
       "0     2013-11-07   47.560001  44.900002   46.694286\n",
       "1     2013-11-08   47.529999  41.650002   47.842857\n",
       "2     2013-11-11   46.200001  42.900002   48.272858\n",
       "3     2013-11-12   46.610001  41.900002   47.675713\n",
       "4     2013-11-13   48.709999  42.599998   47.897144\n",
       "...          ...         ...        ...         ...\n",
       "1707  2020-08-20  269.010010  38.959999  497.899994\n",
       "1708  2020-08-21  267.010010  39.259998  492.309998\n",
       "1709  2020-08-24  271.390015  40.490002  488.809998\n",
       "1710  2020-08-25  280.820007  40.549999  490.579987\n",
       "1711  2020-08-26  303.910004  41.080002  547.530029\n",
       "\n",
       "[1712 rows x 4 columns]"
      ]
     },
     "execution_count": 27,
     "metadata": {},
     "output_type": "execute_result"
    }
   ],
   "source": [
    "stocks_df"
   ]
  },
  {
   "cell_type": "code",
   "execution_count": 28,
   "metadata": {
    "colab": {
     "base_uri": "https://localhost:8080/",
     "height": 402
    },
    "executionInfo": {
     "elapsed": 3076,
     "status": "ok",
     "timestamp": 1606704610764,
     "user": {
      "displayName": "Stemplicity",
      "photoUrl": "https://lh3.googleusercontent.com/a-/AOh14Gj2vCFt-bD5mPBhUWX0QA6xiBgoXQXtwUm2jgjaCg=s64",
      "userId": "10668071569687886186"
     },
     "user_tz": 300
    },
    "id": "F2LHZ6wMCkf6",
    "outputId": "32bdc2ce-cfdc-4acd-e620-b8ad271efab0"
   },
   "outputs": [
    {
     "data": {
      "text/html": [
       "<div>\n",
       "<style scoped>\n",
       "    .dataframe tbody tr th:only-of-type {\n",
       "        vertical-align: middle;\n",
       "    }\n",
       "\n",
       "    .dataframe tbody tr th {\n",
       "        vertical-align: top;\n",
       "    }\n",
       "\n",
       "    .dataframe thead th {\n",
       "        text-align: right;\n",
       "    }\n",
       "</style>\n",
       "<table border=\"1\" class=\"dataframe\">\n",
       "  <thead>\n",
       "    <tr style=\"text-align: right;\">\n",
       "      <th></th>\n",
       "      <th>Date</th>\n",
       "      <th>FB</th>\n",
       "      <th>TWTR</th>\n",
       "      <th>NFLX</th>\n",
       "    </tr>\n",
       "  </thead>\n",
       "  <tbody>\n",
       "    <tr>\n",
       "      <th>0</th>\n",
       "      <td>2013-11-07</td>\n",
       "      <td>1.000000</td>\n",
       "      <td>1.000000</td>\n",
       "      <td>1.000000</td>\n",
       "    </tr>\n",
       "    <tr>\n",
       "      <th>1</th>\n",
       "      <td>2013-11-08</td>\n",
       "      <td>0.999369</td>\n",
       "      <td>0.927617</td>\n",
       "      <td>1.024598</td>\n",
       "    </tr>\n",
       "    <tr>\n",
       "      <th>2</th>\n",
       "      <td>2013-11-11</td>\n",
       "      <td>0.971405</td>\n",
       "      <td>0.955457</td>\n",
       "      <td>1.033807</td>\n",
       "    </tr>\n",
       "    <tr>\n",
       "      <th>3</th>\n",
       "      <td>2013-11-12</td>\n",
       "      <td>0.980025</td>\n",
       "      <td>0.933185</td>\n",
       "      <td>1.021018</td>\n",
       "    </tr>\n",
       "    <tr>\n",
       "      <th>4</th>\n",
       "      <td>2013-11-13</td>\n",
       "      <td>1.024180</td>\n",
       "      <td>0.948775</td>\n",
       "      <td>1.025760</td>\n",
       "    </tr>\n",
       "    <tr>\n",
       "      <th>...</th>\n",
       "      <td>...</td>\n",
       "      <td>...</td>\n",
       "      <td>...</td>\n",
       "      <td>...</td>\n",
       "    </tr>\n",
       "    <tr>\n",
       "      <th>1707</th>\n",
       "      <td>2020-08-20</td>\n",
       "      <td>5.656224</td>\n",
       "      <td>0.867706</td>\n",
       "      <td>10.662975</td>\n",
       "    </tr>\n",
       "    <tr>\n",
       "      <th>1708</th>\n",
       "      <td>2020-08-21</td>\n",
       "      <td>5.614172</td>\n",
       "      <td>0.874387</td>\n",
       "      <td>10.543260</td>\n",
       "    </tr>\n",
       "    <tr>\n",
       "      <th>1709</th>\n",
       "      <td>2020-08-24</td>\n",
       "      <td>5.706266</td>\n",
       "      <td>0.901782</td>\n",
       "      <td>10.468304</td>\n",
       "    </tr>\n",
       "    <tr>\n",
       "      <th>1710</th>\n",
       "      <td>2020-08-25</td>\n",
       "      <td>5.904542</td>\n",
       "      <td>0.903118</td>\n",
       "      <td>10.506210</td>\n",
       "    </tr>\n",
       "    <tr>\n",
       "      <th>1711</th>\n",
       "      <td>2020-08-26</td>\n",
       "      <td>6.390034</td>\n",
       "      <td>0.914922</td>\n",
       "      <td>11.725846</td>\n",
       "    </tr>\n",
       "  </tbody>\n",
       "</table>\n",
       "<p>1712 rows × 4 columns</p>\n",
       "</div>"
      ],
      "text/plain": [
       "            Date        FB      TWTR       NFLX\n",
       "0     2013-11-07  1.000000  1.000000   1.000000\n",
       "1     2013-11-08  0.999369  0.927617   1.024598\n",
       "2     2013-11-11  0.971405  0.955457   1.033807\n",
       "3     2013-11-12  0.980025  0.933185   1.021018\n",
       "4     2013-11-13  1.024180  0.948775   1.025760\n",
       "...          ...       ...       ...        ...\n",
       "1707  2020-08-20  5.656224  0.867706  10.662975\n",
       "1708  2020-08-21  5.614172  0.874387  10.543260\n",
       "1709  2020-08-24  5.706266  0.901782  10.468304\n",
       "1710  2020-08-25  5.904542  0.903118  10.506210\n",
       "1711  2020-08-26  6.390034  0.914922  11.725846\n",
       "\n",
       "[1712 rows x 4 columns]"
      ]
     },
     "execution_count": 28,
     "metadata": {},
     "output_type": "execute_result"
    }
   ],
   "source": [
    "# Normalize the stock values \n",
    "normstocks = normalize(stocks_df)\n",
    "normstocks"
   ]
  },
  {
   "cell_type": "code",
   "execution_count": 29,
   "metadata": {
    "colab": {
     "base_uri": "https://localhost:8080/"
    },
    "executionInfo": {
     "elapsed": 3072,
     "status": "ok",
     "timestamp": 1606704610764,
     "user": {
      "displayName": "Stemplicity",
      "photoUrl": "https://lh3.googleusercontent.com/a-/AOh14Gj2vCFt-bD5mPBhUWX0QA6xiBgoXQXtwUm2jgjaCg=s64",
      "userId": "10668071569687886186"
     },
     "user_tz": 300
    },
    "id": "5UouSEtdDY_3",
    "outputId": "f1b3c9e5-bd49-45df-fa0b-c8ebf5a5aa6c"
   },
   "outputs": [
    {
     "data": {
      "text/plain": [
       "Index(['FB', 'TWTR', 'NFLX'], dtype='object')"
      ]
     },
     "execution_count": 29,
     "metadata": {},
     "output_type": "execute_result"
    }
   ],
   "source": [
    "normstocks.columns[1:]"
   ]
  },
  {
   "cell_type": "code",
   "execution_count": 30,
   "metadata": {
    "colab": {
     "base_uri": "https://localhost:8080/",
     "height": 402
    },
    "executionInfo": {
     "elapsed": 3068,
     "status": "ok",
     "timestamp": 1606704610765,
     "user": {
      "displayName": "Stemplicity",
      "photoUrl": "https://lh3.googleusercontent.com/a-/AOh14Gj2vCFt-bD5mPBhUWX0QA6xiBgoXQXtwUm2jgjaCg=s64",
      "userId": "10668071569687886186"
     },
     "user_tz": 300
    },
    "id": "m9aZjynJDDYA",
    "outputId": "c41824a6-d3b3-4e64-d6dc-e2350fd1505f"
   },
   "outputs": [
    {
     "data": {
      "text/html": [
       "<div>\n",
       "<style scoped>\n",
       "    .dataframe tbody tr th:only-of-type {\n",
       "        vertical-align: middle;\n",
       "    }\n",
       "\n",
       "    .dataframe tbody tr th {\n",
       "        vertical-align: top;\n",
       "    }\n",
       "\n",
       "    .dataframe thead th {\n",
       "        text-align: right;\n",
       "    }\n",
       "</style>\n",
       "<table border=\"1\" class=\"dataframe\">\n",
       "  <thead>\n",
       "    <tr style=\"text-align: right;\">\n",
       "      <th></th>\n",
       "      <th>Date</th>\n",
       "      <th>FB</th>\n",
       "      <th>TWTR</th>\n",
       "      <th>NFLX</th>\n",
       "    </tr>\n",
       "  </thead>\n",
       "  <tbody>\n",
       "    <tr>\n",
       "      <th>0</th>\n",
       "      <td>2013-11-07</td>\n",
       "      <td>462913.0</td>\n",
       "      <td>511562.0</td>\n",
       "      <td>25525.0</td>\n",
       "    </tr>\n",
       "    <tr>\n",
       "      <th>1</th>\n",
       "      <td>2013-11-08</td>\n",
       "      <td>462621.0</td>\n",
       "      <td>474533.0</td>\n",
       "      <td>26153.0</td>\n",
       "    </tr>\n",
       "    <tr>\n",
       "      <th>2</th>\n",
       "      <td>2013-11-11</td>\n",
       "      <td>449676.0</td>\n",
       "      <td>488775.0</td>\n",
       "      <td>26388.0</td>\n",
       "    </tr>\n",
       "    <tr>\n",
       "      <th>3</th>\n",
       "      <td>2013-11-12</td>\n",
       "      <td>453667.0</td>\n",
       "      <td>477381.0</td>\n",
       "      <td>26062.0</td>\n",
       "    </tr>\n",
       "    <tr>\n",
       "      <th>4</th>\n",
       "      <td>2013-11-13</td>\n",
       "      <td>474107.0</td>\n",
       "      <td>485357.0</td>\n",
       "      <td>26183.0</td>\n",
       "    </tr>\n",
       "    <tr>\n",
       "      <th>...</th>\n",
       "      <td>...</td>\n",
       "      <td>...</td>\n",
       "      <td>...</td>\n",
       "      <td>...</td>\n",
       "    </tr>\n",
       "    <tr>\n",
       "      <th>1707</th>\n",
       "      <td>2020-08-20</td>\n",
       "      <td>2618342.0</td>\n",
       "      <td>443885.0</td>\n",
       "      <td>272173.0</td>\n",
       "    </tr>\n",
       "    <tr>\n",
       "      <th>1708</th>\n",
       "      <td>2020-08-21</td>\n",
       "      <td>2598875.0</td>\n",
       "      <td>447303.0</td>\n",
       "      <td>269117.0</td>\n",
       "    </tr>\n",
       "    <tr>\n",
       "      <th>1709</th>\n",
       "      <td>2020-08-24</td>\n",
       "      <td>2641507.0</td>\n",
       "      <td>461317.0</td>\n",
       "      <td>267204.0</td>\n",
       "    </tr>\n",
       "    <tr>\n",
       "      <th>1710</th>\n",
       "      <td>2020-08-25</td>\n",
       "      <td>2733292.0</td>\n",
       "      <td>462000.0</td>\n",
       "      <td>268172.0</td>\n",
       "    </tr>\n",
       "    <tr>\n",
       "      <th>1711</th>\n",
       "      <td>2020-08-26</td>\n",
       "      <td>2958032.0</td>\n",
       "      <td>468039.0</td>\n",
       "      <td>299303.0</td>\n",
       "    </tr>\n",
       "  </tbody>\n",
       "</table>\n",
       "<p>1712 rows × 4 columns</p>\n",
       "</div>"
      ],
      "text/plain": [
       "            Date         FB      TWTR      NFLX\n",
       "0     2013-11-07   462913.0  511562.0   25525.0\n",
       "1     2013-11-08   462621.0  474533.0   26153.0\n",
       "2     2013-11-11   449676.0  488775.0   26388.0\n",
       "3     2013-11-12   453667.0  477381.0   26062.0\n",
       "4     2013-11-13   474107.0  485357.0   26183.0\n",
       "...          ...        ...       ...       ...\n",
       "1707  2020-08-20  2618342.0  443885.0  272173.0\n",
       "1708  2020-08-21  2598875.0  447303.0  269117.0\n",
       "1709  2020-08-24  2641507.0  461317.0  267204.0\n",
       "1710  2020-08-25  2733292.0  462000.0  268172.0\n",
       "1711  2020-08-26  2958032.0  468039.0  299303.0\n",
       "\n",
       "[1712 rows x 4 columns]"
      ]
     },
     "execution_count": 30,
     "metadata": {},
     "output_type": "execute_result"
    }
   ],
   "source": [
    "# Note that enumerate returns the value and a counter as well\n",
    "for counter, stock in enumerate(normstocks.columns[1:]):\n",
    "  normstocks[stock] = normstocks[stock] * weights[counter]\n",
    "  normstocks[stock] = normstocks[stock] * 1000000\n",
    "normstocks.round(decimals = 0)"
   ]
  },
  {
   "cell_type": "code",
   "execution_count": 31,
   "metadata": {
    "colab": {
     "base_uri": "https://localhost:8080/",
     "height": 623
    },
    "executionInfo": {
     "elapsed": 3279,
     "status": "ok",
     "timestamp": 1606704610980,
     "user": {
      "displayName": "Stemplicity",
      "photoUrl": "https://lh3.googleusercontent.com/a-/AOh14Gj2vCFt-bD5mPBhUWX0QA6xiBgoXQXtwUm2jgjaCg=s64",
      "userId": "10668071569687886186"
     },
     "user_tz": 300
    },
    "id": "Ly7b_-PAEccl",
    "outputId": "83ac83ae-efd8-462e-d9cc-a229299b2874"
   },
   "outputs": [
    {
     "data": {
      "text/html": [
       "<div>\n",
       "<style scoped>\n",
       "    .dataframe tbody tr th:only-of-type {\n",
       "        vertical-align: middle;\n",
       "    }\n",
       "\n",
       "    .dataframe tbody tr th {\n",
       "        vertical-align: top;\n",
       "    }\n",
       "\n",
       "    .dataframe thead th {\n",
       "        text-align: right;\n",
       "    }\n",
       "</style>\n",
       "<table border=\"1\" class=\"dataframe\">\n",
       "  <thead>\n",
       "    <tr style=\"text-align: right;\">\n",
       "      <th></th>\n",
       "      <th>Date</th>\n",
       "      <th>FB</th>\n",
       "      <th>TWTR</th>\n",
       "      <th>NFLX</th>\n",
       "      <th>portfolio daily worth in $</th>\n",
       "    </tr>\n",
       "  </thead>\n",
       "  <tbody>\n",
       "    <tr>\n",
       "      <th>0</th>\n",
       "      <td>2013-11-07</td>\n",
       "      <td>4.629134e+05</td>\n",
       "      <td>511561.540818</td>\n",
       "      <td>25525.050846</td>\n",
       "      <td>1.000000e+06</td>\n",
       "    </tr>\n",
       "    <tr>\n",
       "      <th>1</th>\n",
       "      <td>2013-11-08</td>\n",
       "      <td>4.626214e+05</td>\n",
       "      <td>474533.145861</td>\n",
       "      <td>26152.907821</td>\n",
       "      <td>9.633074e+05</td>\n",
       "    </tr>\n",
       "    <tr>\n",
       "      <th>2</th>\n",
       "      <td>2013-11-11</td>\n",
       "      <td>4.496762e+05</td>\n",
       "      <td>488774.836229</td>\n",
       "      <td>26387.964363</td>\n",
       "      <td>9.648390e+05</td>\n",
       "    </tr>\n",
       "    <tr>\n",
       "      <th>3</th>\n",
       "      <td>2013-11-12</td>\n",
       "      <td>4.536668e+05</td>\n",
       "      <td>477381.483934</td>\n",
       "      <td>26061.539916</td>\n",
       "      <td>9.571098e+05</td>\n",
       "    </tr>\n",
       "    <tr>\n",
       "      <th>4</th>\n",
       "      <td>2013-11-13</td>\n",
       "      <td>4.741066e+05</td>\n",
       "      <td>485356.784967</td>\n",
       "      <td>26182.583367</td>\n",
       "      <td>9.856460e+05</td>\n",
       "    </tr>\n",
       "    <tr>\n",
       "      <th>...</th>\n",
       "      <td>...</td>\n",
       "      <td>...</td>\n",
       "      <td>...</td>\n",
       "      <td>...</td>\n",
       "      <td>...</td>\n",
       "    </tr>\n",
       "    <tr>\n",
       "      <th>1707</th>\n",
       "      <td>2020-08-20</td>\n",
       "      <td>2.618342e+06</td>\n",
       "      <td>443884.994008</td>\n",
       "      <td>272172.973431</td>\n",
       "      <td>3.334400e+06</td>\n",
       "    </tr>\n",
       "    <tr>\n",
       "      <th>1708</th>\n",
       "      <td>2020-08-21</td>\n",
       "      <td>2.598875e+06</td>\n",
       "      <td>447302.988303</td>\n",
       "      <td>269117.247681</td>\n",
       "      <td>3.315296e+06</td>\n",
       "    </tr>\n",
       "    <tr>\n",
       "      <th>1709</th>\n",
       "      <td>2020-08-24</td>\n",
       "      <td>2.641507e+06</td>\n",
       "      <td>461316.857199</td>\n",
       "      <td>267204.001209</td>\n",
       "      <td>3.370028e+06</td>\n",
       "    </tr>\n",
       "    <tr>\n",
       "      <th>1710</th>\n",
       "      <td>2020-08-25</td>\n",
       "      <td>2.733292e+06</td>\n",
       "      <td>462000.424156</td>\n",
       "      <td>268171.551269</td>\n",
       "      <td>3.463463e+06</td>\n",
       "    </tr>\n",
       "    <tr>\n",
       "      <th>1711</th>\n",
       "      <td>2020-08-26</td>\n",
       "      <td>2.958032e+06</td>\n",
       "      <td>468038.935053</td>\n",
       "      <td>299302.827539</td>\n",
       "      <td>3.725374e+06</td>\n",
       "    </tr>\n",
       "  </tbody>\n",
       "</table>\n",
       "<p>1712 rows × 5 columns</p>\n",
       "</div>"
      ],
      "text/plain": [
       "            Date            FB           TWTR           NFLX  \\\n",
       "0     2013-11-07  4.629134e+05  511561.540818   25525.050846   \n",
       "1     2013-11-08  4.626214e+05  474533.145861   26152.907821   \n",
       "2     2013-11-11  4.496762e+05  488774.836229   26387.964363   \n",
       "3     2013-11-12  4.536668e+05  477381.483934   26061.539916   \n",
       "4     2013-11-13  4.741066e+05  485356.784967   26182.583367   \n",
       "...          ...           ...            ...            ...   \n",
       "1707  2020-08-20  2.618342e+06  443884.994008  272172.973431   \n",
       "1708  2020-08-21  2.598875e+06  447302.988303  269117.247681   \n",
       "1709  2020-08-24  2.641507e+06  461316.857199  267204.001209   \n",
       "1710  2020-08-25  2.733292e+06  462000.424156  268171.551269   \n",
       "1711  2020-08-26  2.958032e+06  468038.935053  299302.827539   \n",
       "\n",
       "      portfolio daily worth in $  \n",
       "0                   1.000000e+06  \n",
       "1                   9.633074e+05  \n",
       "2                   9.648390e+05  \n",
       "3                   9.571098e+05  \n",
       "4                   9.856460e+05  \n",
       "...                          ...  \n",
       "1707                3.334400e+06  \n",
       "1708                3.315296e+06  \n",
       "1709                3.370028e+06  \n",
       "1710                3.463463e+06  \n",
       "1711                3.725374e+06  \n",
       "\n",
       "[1712 rows x 5 columns]"
      ]
     },
     "execution_count": 31,
     "metadata": {},
     "output_type": "execute_result"
    }
   ],
   "source": [
    "# Let's create an additional column that contains the sum of all $ values in the portfolio\n",
    "normstocks['portfolio daily worth in $'] = normstocks[normstocks != 'Date'].sum(axis = 1)\n",
    "normstocks"
   ]
  },
  {
   "cell_type": "code",
   "execution_count": 32,
   "metadata": {
    "colab": {
     "base_uri": "https://localhost:8080/",
     "height": 623
    },
    "executionInfo": {
     "elapsed": 3276,
     "status": "ok",
     "timestamp": 1606704610981,
     "user": {
      "displayName": "Stemplicity",
      "photoUrl": "https://lh3.googleusercontent.com/a-/AOh14Gj2vCFt-bD5mPBhUWX0QA6xiBgoXQXtwUm2jgjaCg=s64",
      "userId": "10668071569687886186"
     },
     "user_tz": 300
    },
    "id": "ESTlNEIqFFyb",
    "outputId": "d3164d2e-ab93-4d2f-83f2-18c3df86ab02"
   },
   "outputs": [
    {
     "data": {
      "text/html": [
       "<div>\n",
       "<style scoped>\n",
       "    .dataframe tbody tr th:only-of-type {\n",
       "        vertical-align: middle;\n",
       "    }\n",
       "\n",
       "    .dataframe tbody tr th {\n",
       "        vertical-align: top;\n",
       "    }\n",
       "\n",
       "    .dataframe thead th {\n",
       "        text-align: right;\n",
       "    }\n",
       "</style>\n",
       "<table border=\"1\" class=\"dataframe\">\n",
       "  <thead>\n",
       "    <tr style=\"text-align: right;\">\n",
       "      <th></th>\n",
       "      <th>Date</th>\n",
       "      <th>FB</th>\n",
       "      <th>TWTR</th>\n",
       "      <th>NFLX</th>\n",
       "      <th>portfolio daily worth in $</th>\n",
       "      <th>portfolio daily % return</th>\n",
       "    </tr>\n",
       "  </thead>\n",
       "  <tbody>\n",
       "    <tr>\n",
       "      <th>0</th>\n",
       "      <td>2013-11-07</td>\n",
       "      <td>462913.0</td>\n",
       "      <td>511562.0</td>\n",
       "      <td>25525.0</td>\n",
       "      <td>1000000.0</td>\n",
       "      <td>0.0</td>\n",
       "    </tr>\n",
       "    <tr>\n",
       "      <th>1</th>\n",
       "      <td>2013-11-08</td>\n",
       "      <td>462621.0</td>\n",
       "      <td>474533.0</td>\n",
       "      <td>26153.0</td>\n",
       "      <td>963307.0</td>\n",
       "      <td>-4.0</td>\n",
       "    </tr>\n",
       "    <tr>\n",
       "      <th>2</th>\n",
       "      <td>2013-11-11</td>\n",
       "      <td>449676.0</td>\n",
       "      <td>488775.0</td>\n",
       "      <td>26388.0</td>\n",
       "      <td>964839.0</td>\n",
       "      <td>0.0</td>\n",
       "    </tr>\n",
       "    <tr>\n",
       "      <th>3</th>\n",
       "      <td>2013-11-12</td>\n",
       "      <td>453667.0</td>\n",
       "      <td>477381.0</td>\n",
       "      <td>26062.0</td>\n",
       "      <td>957110.0</td>\n",
       "      <td>-1.0</td>\n",
       "    </tr>\n",
       "    <tr>\n",
       "      <th>4</th>\n",
       "      <td>2013-11-13</td>\n",
       "      <td>474107.0</td>\n",
       "      <td>485357.0</td>\n",
       "      <td>26183.0</td>\n",
       "      <td>985646.0</td>\n",
       "      <td>3.0</td>\n",
       "    </tr>\n",
       "    <tr>\n",
       "      <th>...</th>\n",
       "      <td>...</td>\n",
       "      <td>...</td>\n",
       "      <td>...</td>\n",
       "      <td>...</td>\n",
       "      <td>...</td>\n",
       "      <td>...</td>\n",
       "    </tr>\n",
       "    <tr>\n",
       "      <th>1707</th>\n",
       "      <td>2020-08-20</td>\n",
       "      <td>2618342.0</td>\n",
       "      <td>443885.0</td>\n",
       "      <td>272173.0</td>\n",
       "      <td>3334400.0</td>\n",
       "      <td>2.0</td>\n",
       "    </tr>\n",
       "    <tr>\n",
       "      <th>1708</th>\n",
       "      <td>2020-08-21</td>\n",
       "      <td>2598875.0</td>\n",
       "      <td>447303.0</td>\n",
       "      <td>269117.0</td>\n",
       "      <td>3315296.0</td>\n",
       "      <td>-1.0</td>\n",
       "    </tr>\n",
       "    <tr>\n",
       "      <th>1709</th>\n",
       "      <td>2020-08-24</td>\n",
       "      <td>2641507.0</td>\n",
       "      <td>461317.0</td>\n",
       "      <td>267204.0</td>\n",
       "      <td>3370028.0</td>\n",
       "      <td>2.0</td>\n",
       "    </tr>\n",
       "    <tr>\n",
       "      <th>1710</th>\n",
       "      <td>2020-08-25</td>\n",
       "      <td>2733292.0</td>\n",
       "      <td>462000.0</td>\n",
       "      <td>268172.0</td>\n",
       "      <td>3463463.0</td>\n",
       "      <td>3.0</td>\n",
       "    </tr>\n",
       "    <tr>\n",
       "      <th>1711</th>\n",
       "      <td>2020-08-26</td>\n",
       "      <td>2958032.0</td>\n",
       "      <td>468039.0</td>\n",
       "      <td>299303.0</td>\n",
       "      <td>3725374.0</td>\n",
       "      <td>8.0</td>\n",
       "    </tr>\n",
       "  </tbody>\n",
       "</table>\n",
       "<p>1712 rows × 6 columns</p>\n",
       "</div>"
      ],
      "text/plain": [
       "            Date         FB      TWTR      NFLX  portfolio daily worth in $  \\\n",
       "0     2013-11-07   462913.0  511562.0   25525.0                   1000000.0   \n",
       "1     2013-11-08   462621.0  474533.0   26153.0                    963307.0   \n",
       "2     2013-11-11   449676.0  488775.0   26388.0                    964839.0   \n",
       "3     2013-11-12   453667.0  477381.0   26062.0                    957110.0   \n",
       "4     2013-11-13   474107.0  485357.0   26183.0                    985646.0   \n",
       "...          ...        ...       ...       ...                         ...   \n",
       "1707  2020-08-20  2618342.0  443885.0  272173.0                   3334400.0   \n",
       "1708  2020-08-21  2598875.0  447303.0  269117.0                   3315296.0   \n",
       "1709  2020-08-24  2641507.0  461317.0  267204.0                   3370028.0   \n",
       "1710  2020-08-25  2733292.0  462000.0  268172.0                   3463463.0   \n",
       "1711  2020-08-26  2958032.0  468039.0  299303.0                   3725374.0   \n",
       "\n",
       "      portfolio daily % return  \n",
       "0                          0.0  \n",
       "1                         -4.0  \n",
       "2                          0.0  \n",
       "3                         -1.0  \n",
       "4                          3.0  \n",
       "...                        ...  \n",
       "1707                       2.0  \n",
       "1708                      -1.0  \n",
       "1709                       2.0  \n",
       "1710                       3.0  \n",
       "1711                       8.0  \n",
       "\n",
       "[1712 rows x 6 columns]"
      ]
     },
     "execution_count": 32,
     "metadata": {},
     "output_type": "execute_result"
    }
   ],
   "source": [
    "# Let's calculate the portfolio daily return \n",
    "# Define a new column in the dataframe and set it to zeros\n",
    "normstocks['portfolio daily % return'] = 0.0000\n",
    "\n",
    "for i in range(1, len(stocks_df)):\n",
    "  # Calculate the percentage of change from the previous day\n",
    "  normstocks['portfolio daily % return'][i] = ( (normstocks['portfolio daily worth in $'][i] - normstocks['portfolio daily worth in $'][i-1]) / normstocks['portfolio daily worth in $'][i-1]) * 100 \n",
    "\n",
    "normstocks.round(decimals = 0)"
   ]
  },
  {
   "cell_type": "markdown",
   "metadata": {
    "id": "5FYcMzJcGWo-"
   },
   "source": [
    "# TASK #5: PORTFOLIO ALLOCATION - DAILY RETURN/WORTH CALCULATION (FUNCTION)"
   ]
  },
  {
   "cell_type": "code",
   "execution_count": 33,
   "metadata": {
    "executionInfo": {
     "elapsed": 3270,
     "status": "ok",
     "timestamp": 1606704610983,
     "user": {
      "displayName": "Stemplicity",
      "photoUrl": "https://lh3.googleusercontent.com/a-/AOh14Gj2vCFt-bD5mPBhUWX0QA6xiBgoXQXtwUm2jgjaCg=s64",
      "userId": "10668071569687886186"
     },
     "user_tz": 300
    },
    "id": "1UtoXcsdW4H_"
   },
   "outputs": [],
   "source": [
    "# Lets assume we have $1,000,000 to be invested and we will allocate this fund based on the weights of the stocks\n",
    "# We will create a function that takes in the stock prices along with the weights and retun:\n",
    "# (1) Daily value of each individual securuty in $ over the specified time period\n",
    "# (2) Overall daily worth of the entire portfolio \n",
    "# (3) Daily return \n",
    "\n",
    "def portfolio_allocation(df, weights):\n",
    "\n",
    "  normstocks = df.copy()\n",
    "  \n",
    "  # Normalize the stock avalues \n",
    "  normstocks = normalize(normstocks)\n",
    "  \n",
    "  for counter, stock in enumerate(normstocks.columns[1:]):\n",
    "    normstocks[stock] = normstocks[stock] * weights[counter]\n",
    "    normstocks[stock] = normstocks[stock] * 1000000\n",
    "\n",
    "  normstocks['portfolio daily worth in $'] = normstocks[normstocks != 'Date'].sum(axis = 1)\n",
    "  \n",
    "  normstocks['portfolio daily % return'] = 0.0000\n",
    "\n",
    "  for i in range(1, len(stocks_df)):\n",
    "    \n",
    "    # Calculate the percentage of change from the previous day\n",
    "    normstocks['portfolio daily % return'][i] = ( (normstocks['portfolio daily worth in $'][i] - normstocks['portfolio daily worth in $'][i-1]) / normstocks['portfolio daily worth in $'][i-1]) * 100 \n",
    "  \n",
    "  # set the value of first row to zero, as previous value is not available\n",
    "  normstocks['portfolio daily % return'][0] = 0\n",
    "  return normstocks"
   ]
  },
  {
   "cell_type": "code",
   "execution_count": 34,
   "metadata": {
    "colab": {
     "base_uri": "https://localhost:8080/",
     "height": 623
    },
    "executionInfo": {
     "elapsed": 3453,
     "status": "ok",
     "timestamp": 1606704611171,
     "user": {
      "displayName": "Stemplicity",
      "photoUrl": "https://lh3.googleusercontent.com/a-/AOh14Gj2vCFt-bD5mPBhUWX0QA6xiBgoXQXtwUm2jgjaCg=s64",
      "userId": "10668071569687886186"
     },
     "user_tz": 300
    },
    "id": "XGpuUb1-iiJ_",
    "outputId": "387c494a-385e-4756-fe35-3aae50d9676a"
   },
   "outputs": [
    {
     "data": {
      "text/html": [
       "<div>\n",
       "<style scoped>\n",
       "    .dataframe tbody tr th:only-of-type {\n",
       "        vertical-align: middle;\n",
       "    }\n",
       "\n",
       "    .dataframe tbody tr th {\n",
       "        vertical-align: top;\n",
       "    }\n",
       "\n",
       "    .dataframe thead th {\n",
       "        text-align: right;\n",
       "    }\n",
       "</style>\n",
       "<table border=\"1\" class=\"dataframe\">\n",
       "  <thead>\n",
       "    <tr style=\"text-align: right;\">\n",
       "      <th></th>\n",
       "      <th>Date</th>\n",
       "      <th>FB</th>\n",
       "      <th>TWTR</th>\n",
       "      <th>NFLX</th>\n",
       "      <th>portfolio daily worth in $</th>\n",
       "      <th>portfolio daily % return</th>\n",
       "    </tr>\n",
       "  </thead>\n",
       "  <tbody>\n",
       "    <tr>\n",
       "      <th>0</th>\n",
       "      <td>2013-11-07</td>\n",
       "      <td>4.629134e+05</td>\n",
       "      <td>511561.540818</td>\n",
       "      <td>25525.050846</td>\n",
       "      <td>1.000000e+06</td>\n",
       "      <td>0.000000</td>\n",
       "    </tr>\n",
       "    <tr>\n",
       "      <th>1</th>\n",
       "      <td>2013-11-08</td>\n",
       "      <td>4.626214e+05</td>\n",
       "      <td>474533.145861</td>\n",
       "      <td>26152.907821</td>\n",
       "      <td>9.633074e+05</td>\n",
       "      <td>-3.669255</td>\n",
       "    </tr>\n",
       "    <tr>\n",
       "      <th>2</th>\n",
       "      <td>2013-11-11</td>\n",
       "      <td>4.496762e+05</td>\n",
       "      <td>488774.836229</td>\n",
       "      <td>26387.964363</td>\n",
       "      <td>9.648390e+05</td>\n",
       "      <td>0.158988</td>\n",
       "    </tr>\n",
       "    <tr>\n",
       "      <th>3</th>\n",
       "      <td>2013-11-12</td>\n",
       "      <td>4.536668e+05</td>\n",
       "      <td>477381.483934</td>\n",
       "      <td>26061.539916</td>\n",
       "      <td>9.571098e+05</td>\n",
       "      <td>-0.801081</td>\n",
       "    </tr>\n",
       "    <tr>\n",
       "      <th>4</th>\n",
       "      <td>2013-11-13</td>\n",
       "      <td>4.741066e+05</td>\n",
       "      <td>485356.784967</td>\n",
       "      <td>26182.583367</td>\n",
       "      <td>9.856460e+05</td>\n",
       "      <td>2.981492</td>\n",
       "    </tr>\n",
       "    <tr>\n",
       "      <th>...</th>\n",
       "      <td>...</td>\n",
       "      <td>...</td>\n",
       "      <td>...</td>\n",
       "      <td>...</td>\n",
       "      <td>...</td>\n",
       "      <td>...</td>\n",
       "    </tr>\n",
       "    <tr>\n",
       "      <th>1707</th>\n",
       "      <td>2020-08-20</td>\n",
       "      <td>2.618342e+06</td>\n",
       "      <td>443884.994008</td>\n",
       "      <td>272172.973431</td>\n",
       "      <td>3.334400e+06</td>\n",
       "      <td>2.162927</td>\n",
       "    </tr>\n",
       "    <tr>\n",
       "      <th>1708</th>\n",
       "      <td>2020-08-21</td>\n",
       "      <td>2.598875e+06</td>\n",
       "      <td>447302.988303</td>\n",
       "      <td>269117.247681</td>\n",
       "      <td>3.315296e+06</td>\n",
       "      <td>-0.572944</td>\n",
       "    </tr>\n",
       "    <tr>\n",
       "      <th>1709</th>\n",
       "      <td>2020-08-24</td>\n",
       "      <td>2.641507e+06</td>\n",
       "      <td>461316.857199</td>\n",
       "      <td>267204.001209</td>\n",
       "      <td>3.370028e+06</td>\n",
       "      <td>1.650903</td>\n",
       "    </tr>\n",
       "    <tr>\n",
       "      <th>1710</th>\n",
       "      <td>2020-08-25</td>\n",
       "      <td>2.733292e+06</td>\n",
       "      <td>462000.424156</td>\n",
       "      <td>268171.551269</td>\n",
       "      <td>3.463463e+06</td>\n",
       "      <td>2.772547</td>\n",
       "    </tr>\n",
       "    <tr>\n",
       "      <th>1711</th>\n",
       "      <td>2020-08-26</td>\n",
       "      <td>2.958032e+06</td>\n",
       "      <td>468038.935053</td>\n",
       "      <td>299302.827539</td>\n",
       "      <td>3.725374e+06</td>\n",
       "      <td>7.562098</td>\n",
       "    </tr>\n",
       "  </tbody>\n",
       "</table>\n",
       "<p>1712 rows × 6 columns</p>\n",
       "</div>"
      ],
      "text/plain": [
       "            Date            FB           TWTR           NFLX  \\\n",
       "0     2013-11-07  4.629134e+05  511561.540818   25525.050846   \n",
       "1     2013-11-08  4.626214e+05  474533.145861   26152.907821   \n",
       "2     2013-11-11  4.496762e+05  488774.836229   26387.964363   \n",
       "3     2013-11-12  4.536668e+05  477381.483934   26061.539916   \n",
       "4     2013-11-13  4.741066e+05  485356.784967   26182.583367   \n",
       "...          ...           ...            ...            ...   \n",
       "1707  2020-08-20  2.618342e+06  443884.994008  272172.973431   \n",
       "1708  2020-08-21  2.598875e+06  447302.988303  269117.247681   \n",
       "1709  2020-08-24  2.641507e+06  461316.857199  267204.001209   \n",
       "1710  2020-08-25  2.733292e+06  462000.424156  268171.551269   \n",
       "1711  2020-08-26  2.958032e+06  468038.935053  299302.827539   \n",
       "\n",
       "      portfolio daily worth in $  portfolio daily % return  \n",
       "0                   1.000000e+06                  0.000000  \n",
       "1                   9.633074e+05                 -3.669255  \n",
       "2                   9.648390e+05                  0.158988  \n",
       "3                   9.571098e+05                 -0.801081  \n",
       "4                   9.856460e+05                  2.981492  \n",
       "...                          ...                       ...  \n",
       "1707                3.334400e+06                  2.162927  \n",
       "1708                3.315296e+06                 -0.572944  \n",
       "1709                3.370028e+06                  1.650903  \n",
       "1710                3.463463e+06                  2.772547  \n",
       "1711                3.725374e+06                  7.562098  \n",
       "\n",
       "[1712 rows x 6 columns]"
      ]
     },
     "execution_count": 34,
     "metadata": {},
     "output_type": "execute_result"
    }
   ],
   "source": [
    "# Call the function\n",
    "normstocks = portfolio_allocation(stocks_df, weights)\n",
    "normstocks"
   ]
  },
  {
   "cell_type": "markdown",
   "metadata": {
    "id": "QaaDNPBKeR3B"
   },
   "source": [
    "# TASK #6: PERORM PORTFOLIO DATA VISUALIZATION"
   ]
  },
  {
   "cell_type": "code",
   "execution_count": 35,
   "metadata": {
    "colab": {
     "base_uri": "https://localhost:8080/",
     "height": 542
    },
    "executionInfo": {
     "elapsed": 4160,
     "status": "ok",
     "timestamp": 1606704611882,
     "user": {
      "displayName": "Stemplicity",
      "photoUrl": "https://lh3.googleusercontent.com/a-/AOh14Gj2vCFt-bD5mPBhUWX0QA6xiBgoXQXtwUm2jgjaCg=s64",
      "userId": "10668071569687886186"
     },
     "user_tz": 300
    },
    "id": "puoioqEbf-1l",
    "outputId": "1d38c1a9-8de6-4347-cac5-f2a343a6dc63"
   },
   "outputs": [
    {
     "data": {
      "image/png": "[encoded data removed]"
     },
     "metadata": {},
     "output_type": "display_data"
    }
   ],
   "source": [
    "# Plot the portfolio daily return\n",
    "fig = px.line(x = normstocks.Date, y = normstocks['portfolio daily % return'], title = 'Portfolio Daily % Return')\n",
    "fig.show('png')"
   ]
  },
  {
   "cell_type": "code",
   "execution_count": 36,
   "metadata": {
    "colab": {
     "base_uri": "https://localhost:8080/",
     "height": 542
    },
    "executionInfo": {
     "elapsed": 4696,
     "status": "ok",
     "timestamp": 1606704612422,
     "user": {
      "displayName": "Stemplicity",
      "photoUrl": "https://lh3.googleusercontent.com/a-/AOh14Gj2vCFt-bD5mPBhUWX0QA6xiBgoXQXtwUm2jgjaCg=s64",
      "userId": "10668071569687886186"
     },
     "user_tz": 300
    },
    "id": "vPqNoj1Eu8Uf",
    "outputId": "bbf586e8-932e-4ceb-bd9f-d0c7f52fc87f"
   },
   "outputs": [
    {
     "data": {
      "image/png": "[encoded data removed]"
     },
     "metadata": {},
     "output_type": "display_data"
    }
   ],
   "source": [
    "# Plot all stocks (normalized)\n",
    "interactive_plot(normstocks.drop(['portfolio daily worth in $', 'portfolio daily % return'], axis = 1), 'Portfolio individual stocks worth in $ over time')"
   ]
  },
  {
   "cell_type": "code",
   "execution_count": 26,
   "metadata": {
    "colab": {
     "base_uri": "https://localhost:8080/",
     "height": 542
    },
    "executionInfo": {
     "elapsed": 5020,
     "status": "ok",
     "timestamp": 1606704612751,
     "user": {
      "displayName": "Stemplicity",
      "photoUrl": "https://lh3.googleusercontent.com/a-/AOh14Gj2vCFt-bD5mPBhUWX0QA6xiBgoXQXtwUm2jgjaCg=s64",
      "userId": "10668071569687886186"
     },
     "user_tz": 300
    },
    "id": "dvZgEqmrcMSW",
    "outputId": "31f968da-adcc-4611-829a-b54f4522c3fd"
   },
   "outputs": [
    {
     "data": {
      "image/png": "[encoded data removed]"
     },
     "metadata": {},
     "output_type": "display_data"
    }
   ],
   "source": [
    "# Print out a histogram of daily returns\n",
    "fig = px.histogram(normstocks, x = 'portfolio daily % return')\n",
    "fig.show('png')"
   ]
  },
  {
   "cell_type": "code",
   "execution_count": 27,
   "metadata": {
    "colab": {
     "base_uri": "https://localhost:8080/",
     "height": 542
    },
    "executionInfo": {
     "elapsed": 5215,
     "status": "ok",
     "timestamp": 1606704612950,
     "user": {
      "displayName": "Stemplicity",
      "photoUrl": "https://lh3.googleusercontent.com/a-/AOh14Gj2vCFt-bD5mPBhUWX0QA6xiBgoXQXtwUm2jgjaCg=s64",
      "userId": "10668071569687886186"
     },
     "user_tz": 300
    },
    "id": "lqj1T2fpkEOH",
    "outputId": "448c5c8d-2631-4985-fa7f-a7c83bcb2929"
   },
   "outputs": [
    {
     "data": {
      "image/png": "[encoded data removed]"
     },
     "metadata": {},
     "output_type": "display_data"
    }
   ],
   "source": [
    "fig = px.line(x = normstocks.Date, y = normstocks['portfolio daily worth in $'], title= 'Portfolio Overall Value in $')\n",
    "fig.show('png')"
   ]
  },
  {
   "cell_type": "markdown",
   "metadata": {
    "id": "-e-K4SPXkPju"
   },
   "source": [
    "# TASK #7: CALCULATE PORTFOLIO STATISTICAL METRICS (CUMMULATIVE RETURN, AVERAGE DAILY RETURN, AND SHARPE RATIO)"
   ]
  },
  {
   "cell_type": "code",
   "execution_count": 20,
   "metadata": {
    "colab": {
     "base_uri": "https://localhost:8080/",
     "height": 623
    },
    "executionInfo": {
     "elapsed": 5212,
     "status": "ok",
     "timestamp": 1606704612951,
     "user": {
      "displayName": "Stemplicity",
      "photoUrl": "https://lh3.googleusercontent.com/a-/AOh14Gj2vCFt-bD5mPBhUWX0QA6xiBgoXQXtwUm2jgjaCg=s64",
      "userId": "10668071569687886186"
     },
     "user_tz": 300
    },
    "id": "441cVMptPzZr",
    "outputId": "eb78f358-102e-4ae2-9517-a26080f933e4"
   },
   "outputs": [
    {
     "data": {
      "text/html": [
       "<div>\n",
       "<style scoped>\n",
       "    .dataframe tbody tr th:only-of-type {\n",
       "        vertical-align: middle;\n",
       "    }\n",
       "\n",
       "    .dataframe tbody tr th {\n",
       "        vertical-align: top;\n",
       "    }\n",
       "\n",
       "    .dataframe thead th {\n",
       "        text-align: right;\n",
       "    }\n",
       "</style>\n",
       "<table border=\"1\" class=\"dataframe\">\n",
       "  <thead>\n",
       "    <tr style=\"text-align: right;\">\n",
       "      <th></th>\n",
       "      <th>Date</th>\n",
       "      <th>FB</th>\n",
       "      <th>TWTR</th>\n",
       "      <th>NFLX</th>\n",
       "      <th>portfolio daily worth in $</th>\n",
       "      <th>portfolio daily % return</th>\n",
       "    </tr>\n",
       "  </thead>\n",
       "  <tbody>\n",
       "    <tr>\n",
       "      <th>0</th>\n",
       "      <td>2013-11-07</td>\n",
       "      <td>4.629134e+05</td>\n",
       "      <td>511561.540818</td>\n",
       "      <td>25525.050846</td>\n",
       "      <td>1.000000e+06</td>\n",
       "      <td>0.000000</td>\n",
       "    </tr>\n",
       "    <tr>\n",
       "      <th>1</th>\n",
       "      <td>2013-11-08</td>\n",
       "      <td>4.626214e+05</td>\n",
       "      <td>474533.145861</td>\n",
       "      <td>26152.907821</td>\n",
       "      <td>9.633074e+05</td>\n",
       "      <td>-3.669255</td>\n",
       "    </tr>\n",
       "    <tr>\n",
       "      <th>2</th>\n",
       "      <td>2013-11-11</td>\n",
       "      <td>4.496762e+05</td>\n",
       "      <td>488774.836229</td>\n",
       "      <td>26387.964363</td>\n",
       "      <td>9.648390e+05</td>\n",
       "      <td>0.158988</td>\n",
       "    </tr>\n",
       "    <tr>\n",
       "      <th>3</th>\n",
       "      <td>2013-11-12</td>\n",
       "      <td>4.536668e+05</td>\n",
       "      <td>477381.483934</td>\n",
       "      <td>26061.539916</td>\n",
       "      <td>9.571098e+05</td>\n",
       "      <td>-0.801081</td>\n",
       "    </tr>\n",
       "    <tr>\n",
       "      <th>4</th>\n",
       "      <td>2013-11-13</td>\n",
       "      <td>4.741066e+05</td>\n",
       "      <td>485356.784967</td>\n",
       "      <td>26182.583367</td>\n",
       "      <td>9.856460e+05</td>\n",
       "      <td>2.981492</td>\n",
       "    </tr>\n",
       "    <tr>\n",
       "      <th>...</th>\n",
       "      <td>...</td>\n",
       "      <td>...</td>\n",
       "      <td>...</td>\n",
       "      <td>...</td>\n",
       "      <td>...</td>\n",
       "      <td>...</td>\n",
       "    </tr>\n",
       "    <tr>\n",
       "      <th>1707</th>\n",
       "      <td>2020-08-20</td>\n",
       "      <td>2.618342e+06</td>\n",
       "      <td>443884.994008</td>\n",
       "      <td>272172.973431</td>\n",
       "      <td>3.334400e+06</td>\n",
       "      <td>2.162927</td>\n",
       "    </tr>\n",
       "    <tr>\n",
       "      <th>1708</th>\n",
       "      <td>2020-08-21</td>\n",
       "      <td>2.598875e+06</td>\n",
       "      <td>447302.988303</td>\n",
       "      <td>269117.247681</td>\n",
       "      <td>3.315296e+06</td>\n",
       "      <td>-0.572944</td>\n",
       "    </tr>\n",
       "    <tr>\n",
       "      <th>1709</th>\n",
       "      <td>2020-08-24</td>\n",
       "      <td>2.641507e+06</td>\n",
       "      <td>461316.857199</td>\n",
       "      <td>267204.001209</td>\n",
       "      <td>3.370028e+06</td>\n",
       "      <td>1.650903</td>\n",
       "    </tr>\n",
       "    <tr>\n",
       "      <th>1710</th>\n",
       "      <td>2020-08-25</td>\n",
       "      <td>2.733292e+06</td>\n",
       "      <td>462000.424156</td>\n",
       "      <td>268171.551269</td>\n",
       "      <td>3.463463e+06</td>\n",
       "      <td>2.772547</td>\n",
       "    </tr>\n",
       "    <tr>\n",
       "      <th>1711</th>\n",
       "      <td>2020-08-26</td>\n",
       "      <td>2.958032e+06</td>\n",
       "      <td>468038.935053</td>\n",
       "      <td>299302.827539</td>\n",
       "      <td>3.725374e+06</td>\n",
       "      <td>7.562098</td>\n",
       "    </tr>\n",
       "  </tbody>\n",
       "</table>\n",
       "<p>1712 rows × 6 columns</p>\n",
       "</div>"
      ],
      "text/plain": [
       "            Date            FB           TWTR           NFLX  \\\n",
       "0     2013-11-07  4.629134e+05  511561.540818   25525.050846   \n",
       "1     2013-11-08  4.626214e+05  474533.145861   26152.907821   \n",
       "2     2013-11-11  4.496762e+05  488774.836229   26387.964363   \n",
       "3     2013-11-12  4.536668e+05  477381.483934   26061.539916   \n",
       "4     2013-11-13  4.741066e+05  485356.784967   26182.583367   \n",
       "...          ...           ...            ...            ...   \n",
       "1707  2020-08-20  2.618342e+06  443884.994008  272172.973431   \n",
       "1708  2020-08-21  2.598875e+06  447302.988303  269117.247681   \n",
       "1709  2020-08-24  2.641507e+06  461316.857199  267204.001209   \n",
       "1710  2020-08-25  2.733292e+06  462000.424156  268171.551269   \n",
       "1711  2020-08-26  2.958032e+06  468038.935053  299302.827539   \n",
       "\n",
       "      portfolio daily worth in $  portfolio daily % return  \n",
       "0                   1.000000e+06                  0.000000  \n",
       "1                   9.633074e+05                 -3.669255  \n",
       "2                   9.648390e+05                  0.158988  \n",
       "3                   9.571098e+05                 -0.801081  \n",
       "4                   9.856460e+05                  2.981492  \n",
       "...                          ...                       ...  \n",
       "1707                3.334400e+06                  2.162927  \n",
       "1708                3.315296e+06                 -0.572944  \n",
       "1709                3.370028e+06                  1.650903  \n",
       "1710                3.463463e+06                  2.772547  \n",
       "1711                3.725374e+06                  7.562098  \n",
       "\n",
       "[1712 rows x 6 columns]"
      ]
     },
     "execution_count": 20,
     "metadata": {},
     "output_type": "execute_result"
    }
   ],
   "source": [
    "normstocks"
   ]
  },
  {
   "cell_type": "code",
   "execution_count": 21,
   "metadata": {
    "colab": {
     "base_uri": "https://localhost:8080/"
    },
    "executionInfo": {
     "elapsed": 5210,
     "status": "ok",
     "timestamp": 1606704612953,
     "user": {
      "displayName": "Stemplicity",
      "photoUrl": "https://lh3.googleusercontent.com/a-/AOh14Gj2vCFt-bD5mPBhUWX0QA6xiBgoXQXtwUm2jgjaCg=s64",
      "userId": "10668071569687886186"
     },
     "user_tz": 300
    },
    "id": "YqPKVo7qP35r",
    "outputId": "7106a3d6-47ed-41e9-e46d-6a7e31b95efb"
   },
   "outputs": [
    {
     "name": "stdout",
     "output_type": "stream",
     "text": [
      "Cummulative return of the portfolio is 272.5373991797118 %\n"
     ]
    }
   ],
   "source": [
    "# Cummulative return of the portfolio (Note that we now look for the last net worth of the portfolio compared to it's start value)\n",
    "cummulative_return = ((normstocks['portfolio daily worth in $'][-1:] - normstocks['portfolio daily worth in $'][0])/ normstocks['portfolio daily worth in $'][0]) * 100\n",
    "print('Cummulative return of the portfolio is {} %'.format(cummulative_return.values[0]))\n"
   ]
  },
  {
   "cell_type": "code",
   "execution_count": 22,
   "metadata": {
    "colab": {
     "base_uri": "https://localhost:8080/"
    },
    "executionInfo": {
     "elapsed": 5205,
     "status": "ok",
     "timestamp": 1606704612953,
     "user": {
      "displayName": "Stemplicity",
      "photoUrl": "https://lh3.googleusercontent.com/a-/AOh14Gj2vCFt-bD5mPBhUWX0QA6xiBgoXQXtwUm2jgjaCg=s64",
      "userId": "10668071569687886186"
     },
     "user_tz": 300
    },
    "id": "OQ5XsTjTZgR3",
    "outputId": "6de49da9-fa2f-484b-c8d4-fd9cc7b187f7"
   },
   "outputs": [
    {
     "name": "stdout",
     "output_type": "stream",
     "text": [
      "Standard deviation of the portfolio is 2.0244163418607495\n"
     ]
    }
   ],
   "source": [
    "# Calculate the portfolio standard deviation\n",
    "print('Standard deviation of the portfolio is {}'.format(normstocks['portfolio daily % return'].std()))"
   ]
  },
  {
   "cell_type": "code",
   "execution_count": 23,
   "metadata": {
    "colab": {
     "base_uri": "https://localhost:8080/"
    },
    "executionInfo": {
     "elapsed": 5201,
     "status": "ok",
     "timestamp": 1606704612954,
     "user": {
      "displayName": "Stemplicity",
      "photoUrl": "https://lh3.googleusercontent.com/a-/AOh14Gj2vCFt-bD5mPBhUWX0QA6xiBgoXQXtwUm2jgjaCg=s64",
      "userId": "10668071569687886186"
     },
     "user_tz": 300
    },
    "id": "O4z2t-BSZjyl",
    "outputId": "a7860b40-f8a7-41b6-ee31-d45528d01b1b"
   },
   "outputs": [
    {
     "name": "stdout",
     "output_type": "stream",
     "text": [
      "Average daily return of the portfolio is 0.09751590070507767 %\n"
     ]
    }
   ],
   "source": [
    "# Calculate the average daily return \n",
    "print('Average daily return of the portfolio is {} %'.format(normstocks['portfolio daily % return'].mean() ))"
   ]
  },
  {
   "cell_type": "code",
   "execution_count": 24,
   "metadata": {
    "colab": {
     "base_uri": "https://localhost:8080/"
    },
    "executionInfo": {
     "elapsed": 5197,
     "status": "ok",
     "timestamp": 1606704612954,
     "user": {
      "displayName": "Stemplicity",
      "photoUrl": "https://lh3.googleusercontent.com/a-/AOh14Gj2vCFt-bD5mPBhUWX0QA6xiBgoXQXtwUm2jgjaCg=s64",
      "userId": "10668071569687886186"
     },
     "user_tz": 300
    },
    "id": "BdOQ0kc5ixdY",
    "outputId": "b9840a61-4407-4dab-cc13-daeebb3643dc"
   },
   "outputs": [
    {
     "name": "stdout",
     "output_type": "stream",
     "text": [
      "Sharpe ratio of the portfolio is 0.7646732052250461\n"
     ]
    }
   ],
   "source": [
    "# Portfolio sharpe ratio\n",
    "sharpe_ratio = normstocks['portfolio daily % return'].mean() / normstocks['portfolio daily % return'].std() * np.sqrt(252)\n",
    "print('Sharpe ratio of the portfolio is {}'.format(sharpe_ratio))"
   ]
  }
 ],
 "metadata": {
  "colab": {
   "authorship_tag": "ABX9TyOy449ldl5dxoOzEN1tq/4y",
   "collapsed_sections": [],
   "name": "Finance 101 - Portfolio Assets Allocation and Statistical Data Analysis.ipynb",
   "provenance": [
    {
     "file_id": "1XJOBcQpeZQ280xGIA8W2QLtAXo_UI6DP",
     "timestamp": 1606283043473
    }
   ],
   "toc_visible": true
  },
  "kernelspec": {
   "display_name": "Python 3",
   "language": "python",
   "name": "python3"
  },
  "language_info": {
   "codemirror_mode": {
    "name": "ipython",
    "version": 3
   },
   "file_extension": ".py",
   "mimetype": "text/x-python",
   "name": "python",
   "nbconvert_exporter": "python",
   "pygments_lexer": "ipython3",
   "version": "3.8.8"
  }
 },
 "nbformat": 4,
 "nbformat_minor": 1
}
